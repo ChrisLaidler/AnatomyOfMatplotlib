{
 "metadata": {
  "name": ""
 },
 "nbformat": 3,
 "nbformat_minor": 0,
 "worksheets": [
  {
   "cells": [
    {
     "cell_type": "code",
     "collapsed": false,
     "input": [
      "import string\n",
      "import numpy as np\n",
      "import matplotlib.pyplot as plt\n",
      "from mpl_toolkits.mplot3d import Axes3D, axes3d\n",
      "from matplotlib import cm\n",
      "import scipy.ndimage\n",
      "\n",
      "# Let printing work the same in Python 2 and 3\n",
      "from __future__ import print_function\n",
      "# Turning on inline plots -- just for use in ipython notebooks.\n",
      "%matplotlib inline"
     ],
     "language": "python",
     "metadata": {},
     "outputs": []
    },
    {
     "cell_type": "markdown",
     "metadata": {},
     "source": [
      "#Read data\n",
      "Have a look at the input data, plain text, note format.\n",
      "Create a funbction to read the files"
     ]
    },
    {
     "cell_type": "code",
     "collapsed": true,
     "input": [
      "def read_pmf(fname):\n",
      "  nox=0\n",
      "  noy=0\n",
      "  lineNo=0\n",
      "  column = []\n",
      "  X=[]\n",
      "  Y=[]\n",
      "  Z=[]\n",
      "  with open(fname) as f:\n",
      "    for line in f:\n",
      "      line = line.strip()\n",
      "      if line != '' :\n",
      "        numbers_str = line.split()\n",
      "        if noy == 0:\n",
      "          X.append(float(numbers_str[0]))\n",
      "        if nox == 0:\n",
      "          Y.append(float(numbers_str[1]))\n",
      "        column.append(float(numbers_str[2]))\n",
      "        noy+=1\n",
      "      else:\n",
      "        nox+=1\n",
      "        noy=0\n",
      "        Z.append(column)\n",
      "        column = []\n",
      "  if column != [] :\n",
      "    Z.append(column)\n",
      "  X = np.array(X)\n",
      "  Y = np.array(Y)\n",
      "  X1, Y1 = np.meshgrid(X,Y)\n",
      "  Z = np.array(Z)\n",
      "  return (X1, Y1, Z)\n"
     ],
     "language": "python",
     "metadata": {},
     "outputs": []
    },
    {
     "cell_type": "code",
     "collapsed": false,
     "input": [
      "# read in file\n",
      "#x,y,z = read_pmf(\"aDFuc14bDMan_MetaD.pmf\")\n",
      "#x,y,z = read_pmf(\"aDGal12aDMan_MetaD.pmf\")\n",
      "#x,y,z = read_pmf(\"aDPar13aDMan_MetaD.pmf\")\n",
      "#x,y,z = read_pmf(\"bDGal14bDGlcNAc.pmf\")\n",
      "x,y,z = read_pmf(\"bDGlc14bDGal_MD.pmf\")\n",
      "\n",
      "#Smooth data\n",
      "z2 = scipy.ndimage.gaussian_filter(z, sigma=1.0, order=0)"
     ],
     "language": "python",
     "metadata": {},
     "outputs": []
    },
    {
     "cell_type": "markdown",
     "metadata": {},
     "source": [
      "Plot as 2D heat map"
     ]
    },
    {
     "cell_type": "code",
     "collapsed": false,
     "input": [
      "fig, ax = plt.subplots()\n",
      "plt.pcolor(x,y,z)\n",
      "plt.colorbar()\n",
      "plt.show()"
     ],
     "language": "python",
     "metadata": {},
     "outputs": []
    },
    {
     "cell_type": "markdown",
     "metadata": {},
     "source": [
      "Now as a contour"
     ]
    },
    {
     "cell_type": "code",
     "collapsed": false,
     "input": [
      "plt.contour(x,y,z)\n",
      "plt.show()"
     ],
     "language": "python",
     "metadata": {},
     "outputs": []
    },
    {
     "cell_type": "markdown",
     "metadata": {},
     "source": [
      "Smoothe data"
     ]
    },
    {
     "cell_type": "markdown",
     "metadata": {},
     "source": [
      "Plot smoothed data"
     ]
    },
    {
     "cell_type": "code",
     "collapsed": false,
     "input": [
      "fig, (ax1,ax2) = plt.subplots(1,2,figsize=plt.figaspect(0.5))\n",
      "ax1.pcolor(x,y,z2)\n",
      "ax2.contour(x,y,z2)\n",
      "plt.show()"
     ],
     "language": "python",
     "metadata": {},
     "outputs": []
    },
    {
     "cell_type": "markdown",
     "metadata": {},
     "source": [
      "3D contour"
     ]
    },
    {
     "cell_type": "code",
     "collapsed": false,
     "input": [
      "%matplotlib\n",
      "\n",
      "#zmax   = z2.max()\n",
      "#levels = np.arange(0, zmax+1, 1)\n",
      "\n",
      "fig   = plt.figure(figsize=(8,8))\n",
      "ax    = fig.gca(projection='3d')\n",
      "cont  = ax.contour(x,y,z2)\n",
      "\n",
      "plt.show()"
     ],
     "language": "python",
     "metadata": {},
     "outputs": []
    },
    {
     "cell_type": "markdown",
     "metadata": {},
     "source": [
      "As surface"
     ]
    },
    {
     "cell_type": "code",
     "collapsed": false,
     "input": [
      "%matplotlib\n",
      "\n",
      "fig = plt.figure(figsize=(8,8))\n",
      "ax = fig.gca(projection='3d')\n",
      "ax.plot_surface(x,y,z2)\n",
      "\n",
      "plt.show()"
     ],
     "language": "python",
     "metadata": {},
     "outputs": []
    },
    {
     "cell_type": "markdown",
     "metadata": {},
     "source": [
      "Final"
     ]
    },
    {
     "cell_type": "code",
     "collapsed": false,
     "input": [
      "%matplotlib\n",
      "\n",
      "\n",
      "#set up figure\n",
      "fig = plt.figure(figsize=(10,8))\n",
      "ax = fig.gca(projection='3d')\n",
      "ax.invert_zaxis()\n",
      "\n",
      "surf    = ax.plot_surface(x,y,z2, rstride=2, cstride=2, cmap='jet', linewidth=0, antialiased=True)\n",
      "\n",
      "#levels = np.arange(0, 13, 0.05)\n",
      "#cont   = ax.contourf(x,y,z2, levels)\n",
      "\n",
      "levels = np.arange(0, 13, 1)\n",
      "cont   = ax.contour(x,y,z2, offset=0)\n",
      "\n",
      "ax.set_xlabel(\"X\")\n",
      "ax.set_ylabel(\"X\")\n",
      "ax.set_zlabel(\"Z\")\n",
      "\n",
      "fig.colorbar(surf)\n",
      "\n",
      "plt.show()"
     ],
     "language": "python",
     "metadata": {},
     "outputs": []
    },
    {
     "cell_type": "code",
     "collapsed": false,
     "input": [
      "# Go back to inline mode\n",
      "%matplotlib inline"
     ],
     "language": "python",
     "metadata": {},
     "outputs": []
    }
   ],
   "metadata": {}
  }
 ]
}